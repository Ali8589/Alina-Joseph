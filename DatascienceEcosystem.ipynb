{
 "cells": [
  {
   "cell_type": "markdown",
   "id": "6cbc8fd5-d25f-444b-95cf-41bbe6db8fd5",
   "metadata": {},
   "source": [
    "# Data Science Tools and Ecosysytem"
   ]
  },
  {
   "cell_type": "markdown",
   "id": "07928f25-eeca-474b-8309-a96042161a46",
   "metadata": {},
   "source": [
    "***In this note book Data Science Tools and ecosystem are summarised***"
   ]
  },
  {
   "cell_type": "markdown",
   "id": "279824d1-40a3-45f4-97ec-6e35209ede20",
   "metadata": {},
   "source": [
    "Some of the popular languages that Data Science use are:\n",
    "1. Python\n",
    "2. MySQL\n",
    "3. R\n",
    "4. Java"
   ]
  },
  {
   "cell_type": "markdown",
   "id": "3496dfde-b3e5-4951-9415-93ef8783f268",
   "metadata": {},
   "source": [
    "Some of the commonly used libraries used by Data Scientist include:\n",
    "1. Panda\n",
    "2. Matplotlib\n",
    "3. NumPy\n",
    "4. Scikit-learn"
   ]
  },
  {
   "cell_type": "markdown",
   "id": "24e76252-ee9f-4dab-be45-71c7525cb46f",
   "metadata": {},
   "source": [
    "|Data Science Tools|\n",
    "|------------------|\n",
    "|1.Hapache Hadoop|\n",
    "|2.Apache Spark|\n",
    "|3.RStudio|"
   ]
  },
  {
   "cell_type": "markdown",
   "id": "aa030c32-d37a-47e7-a8d9-df08ab7c3797",
   "metadata": {},
   "source": [
    "### Below are a few examples of evaluating arithmetic expressions in Python"
   ]
  },
  {
   "cell_type": "code",
   "execution_count": 2,
   "id": "60fdf81c-f270-417f-a001-70c72ab58eae",
   "metadata": {},
   "outputs": [
    {
     "data": {
      "text/plain": [
       "17"
      ]
     },
     "execution_count": 2,
     "metadata": {},
     "output_type": "execute_result"
    }
   ],
   "source": [
    "# This is a simple arithmetic expression to multiply then add integers\n",
    "\n",
    "(3*4)+5"
   ]
  },
  {
   "cell_type": "code",
   "execution_count": 6,
   "id": "3fadc81e-68bd-444d-8a80-692b7b1d87a2",
   "metadata": {},
   "outputs": [
    {
     "name": "stdout",
     "output_type": "stream",
     "text": [
      "3.3333333333333335\n"
     ]
    }
   ],
   "source": [
    "#This will convert 200 minutes to hours by dividing by 60\n",
    "x=200\n",
    "y=60\n",
    "z=x/y\n",
    "print(z)"
   ]
  },
  {
   "cell_type": "markdown",
   "id": "ddfd0321-91db-4180-963f-5db463630954",
   "metadata": {},
   "source": [
    "**Objectives**\n",
    "- To know about popular Datascience languages\n",
    "- To konow about popular Datascience libraries\n",
    "- To know about popular Datascience Tools\n",
    "- To know about working of some arethmetic expressions"
   ]
  },
  {
   "cell_type": "markdown",
   "id": "e3c5f7ad-c9e2-4b32-9896-09a315fa50c0",
   "metadata": {},
   "source": [
    "## Author\n",
    "Alina Joseph"
   ]
  },
  {
   "cell_type": "code",
   "execution_count": null,
   "id": "59c6a455-33f6-484b-840d-e2b7194d425f",
   "metadata": {},
   "outputs": [],
   "source": []
  }
 ],
 "metadata": {
  "kernelspec": {
   "display_name": "Python 3 (ipykernel)",
   "language": "python",
   "name": "python3"
  },
  "language_info": {
   "codemirror_mode": {
    "name": "ipython",
    "version": 3
   },
   "file_extension": ".py",
   "mimetype": "text/x-python",
   "name": "python",
   "nbconvert_exporter": "python",
   "pygments_lexer": "ipython3",
   "version": "3.11.9"
  }
 },
 "nbformat": 4,
 "nbformat_minor": 5
}
